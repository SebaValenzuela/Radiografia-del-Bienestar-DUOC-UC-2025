{
 "cells": [
  {
   "cell_type": "code",
   "execution_count": 1,
   "id": "e22a2698",
   "metadata": {},
   "outputs": [
    {
     "name": "stdout",
     "output_type": "stream",
     "text": [
      "Status code: 200\n",
      "Response text: {\"id\":1,\"result\":\"OFnAOaaY78sQf1zhS1H5K28q7UcEkFJ1\",\"error\":null}\n",
      "Archivo guardado en 'data/resumenes/resumen_sedes.xlsx'\n",
      "Archivo guardado en 'data/resumenes/resumen_escuelas.xlsx'\n",
      "Gráfico de pastel guardado en: grafico_anillo.png\n",
      "Presentación generada en 'data/resumenes/resumen_presentacion.pptx'\n",
      "Proceso completado.\n"
     ]
    }
   ],
   "source": [
    "from data.data_processing import procesar_encuesta\n",
    "from api.main import get_full_survey\n",
    "from plots.main import generar_presentacion\n",
    "\n",
    "# 1️⃣ Obtener encuesta\n",
    "df_encuesta = get_full_survey()\n",
    "df_encuesta.to_excel(\"data/encuesta_completa.xlsx\", index=False)\n",
    "\n",
    "# 2️⃣ Procesar alumnos\n",
    "resumen_sede, resumen_escuela = procesar_encuesta(\n",
    "    \"data/encuesta_completa.xlsx\",\n",
    "    \"data/universo-radiografia.xlsx\",\n",
    "    \"data/resumenes\"\n",
    ")\n",
    "\n",
    "# 3️⃣ Generar PPT\n",
    "generar_presentacion(\n",
    "    \"templates/radiografia_bienestar_duoc_2025.pptx\",\n",
    "    \"data/resumenes/resumen_presentacion.pptx\",\n",
    "    resumen_sede,\n",
    "    resumen_escuela\n",
    ")\n",
    "print(\"Proceso completado.\")"
   ]
  }
 ],
 "metadata": {
  "kernelspec": {
   "display_name": "Python 3",
   "language": "python",
   "name": "python3"
  },
  "language_info": {
   "codemirror_mode": {
    "name": "ipython",
    "version": 3
   },
   "file_extension": ".py",
   "mimetype": "text/x-python",
   "name": "python",
   "nbconvert_exporter": "python",
   "pygments_lexer": "ipython3",
   "version": "3.8.10"
  }
 },
 "nbformat": 4,
 "nbformat_minor": 5
}
