{
 "cells": [
  {
   "cell_type": "code",
   "execution_count": 1,
   "id": "e22a2698",
   "metadata": {},
   "outputs": [
    {
     "name": "stdout",
     "output_type": "stream",
     "text": [
      "Status code: 200\n",
      "Response text: {\"id\":1,\"result\":\"~ntTXxr13HSdaN6G7~ZbpZpALBisH9xq\",\"error\":null}\n",
      "Total respuestas por sede: 598\n",
      "Total respuestas por escuela: 598\n",
      "Diferencia (respuestas con escuelas no válidas): 0\n",
      "[]\n",
      "set()\n",
      "Archivo guardado en 'data/resumenes/resumen_sedes.xlsx'\n",
      "Archivo guardado en 'data/resumenes/resumen_escuelas.xlsx'\n",
      "Archivo guardado en 'data/resumenes/resumen_escuelas_por_sede.xlsx'\n",
      "Gráfico de pastel guardado en: grafico_avance_global.png\n",
      "Presentación generada en 'data/resumenes/resumen_presentacion.pptx'\n",
      "Proceso completado.\n"
     ]
    }
   ],
   "source": [
    "from data.data_processing import procesar_encuesta\n",
    "from api.main import get_full_survey\n",
    "from plots.main import generar_presentacion\n",
    "\n",
    "# 1️⃣ Obtener encuesta\n",
    "df_encuesta = get_full_survey()\n",
    "df_encuesta.to_excel(\"data/encuesta_completa.xlsx\", index=False)\n",
    "\n",
    "# 2️⃣ Procesar alumnos\n",
    "resumen_sede, resumen_escuela, resumen_escuela_y_sede = procesar_encuesta(\n",
    "    \"data/encuesta_completa.xlsx\",\n",
    "    \"data/universo-radiografia-final.xlsx\",\n",
    "    \"data/resumenes\",\n",
    "    \"data/cantidad_de_estudiantes.xlsx\",\n",
    "    \"data/n_referencial.xlsx\",\n",
    ")\n",
    "\n",
    "# 3️⃣ Generar PPT\n",
    "generar_presentacion(\n",
    "    \"templates/radiografia_bienestar_duoc_2025.pptx\",\n",
    "    \"data/resumenes/resumen_presentacion.pptx\",\n",
    "    resumen_sede,\n",
    "    resumen_escuela,\n",
    "    resumen_escuela_y_sede,\n",
    ")\n",
    "print(\"Proceso completado.\")"
   ]
  }
 ],
 "metadata": {
  "kernelspec": {
   "display_name": "Python 3",
   "language": "python",
   "name": "python3"
  },
  "language_info": {
   "codemirror_mode": {
    "name": "ipython",
    "version": 3
   },
   "file_extension": ".py",
   "mimetype": "text/x-python",
   "name": "python",
   "nbconvert_exporter": "python",
   "pygments_lexer": "ipython3",
   "version": "3.8.10"
  }
 },
 "nbformat": 4,
 "nbformat_minor": 5
}
