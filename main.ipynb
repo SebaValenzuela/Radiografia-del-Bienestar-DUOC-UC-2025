{
 "cells": [
  {
   "cell_type": "code",
   "execution_count": 1,
   "id": "e22a2698",
   "metadata": {},
   "outputs": [
    {
     "name": "stdout",
     "output_type": "stream",
     "text": [
      "Status code: 200\n",
      "Response text: {\"id\":1,\"result\":\"_W4C578if47T5EZWTDqxK6nE5UOvtzhA\",\"error\":null}\n",
      "Archivo guardado en 'data/resumenes/resumen_sedes.xlsx'\n",
      "Archivo guardado en 'data/resumenes/resumen_escuelas.xlsx'\n",
      "Encuesta columnas: ['id', 'submitdate', 'lastpage', 'startlanguage', 'seed', 'token', 'startdate', 'datestamp', 'ipaddr', 'CON01', 'PERMA1[PER01]', 'PERMA1[PER02]', 'PERMA1[PER03]', 'PERMA1[PER04]', 'PERMA1[PER05]', 'PERMA1[PER06]', 'PERMA1[PER07]', 'PERMA1[PER08]', 'PERMA1[PER09]', 'PERMA1[PER10]', 'PERMA1[PER11]', 'PERMA1[PER12]', 'PERMA1[PER13]', 'PERMA1[PER14]', 'PERMA1[PER15]', 'PERMA1[PER16]', 'PERMA1[PER17]', 'PERMA1[PER18]', 'PERMA1[PER19]', 'PERMA1[PER20]', 'PERMA21', 'PERMA22', 'PERMA23', 'DSM5[DSM01]', 'DSM5[DSM02]', 'DSM5[DSM03]', 'DSM5[DSM04]', 'DSM5[DSM05]', 'DSM5[DSM06]', 'DSM5[DSM07]', 'DSM5[DSM08]', 'DSM5[DSM09]', 'DSM5[DSM10]', 'DSM5[DSM11]', 'DSM5[DSM12]', 'DSM5[DSM13]', 'DSM5[DSM14]', 'DSM5[DSM15]', 'DSM5[DSM16]', 'DSM5[DSM17]', 'DSM5[DSM18]', 'DSM5[DSM19]', 'DSM5[DSM20]', 'DSM5[DSM21]', 'DSM5[DSM22]', 'ED15[ED01]', 'ED15[ED02]', 'PHQ8[PHQ01]', 'PHQ8[PHQ02]', 'PHQ8[PHQ03]', 'PHQ8[PHQ04]', 'PHQ8[PHQ05]', 'PHQ8[PHQ06]', 'PHQ8[PHQ07]', 'PHQ8[PHQ08]', 'GAD7[GAD01]', 'GAD7[GAD02]', 'GAD7[GAD03]', 'GAD7[GAD04]', 'GAD7[GAD05]', 'GAD7[GAD06]', 'GAD7[GAD07]', 'LPFS[LPFS01]', 'LPFS[LPFS02]', 'LPFS[LPFS03]', 'LPFS[LPFS04]', 'LPFS[LPFS05]', 'LPFS[LPFS06]', 'LPFS[LPFS07]', 'LPFS[LPFS08]', 'LPFS[LPFS09]', 'LPFS[LPFS10]', 'LPFS[LPFS11]', 'LPFS[LPFS12]', 'CAST[CAST01]', 'CAST[CAST02]', 'CAST[CAST03]', 'CAST[CAST04]', 'CAST[CAST05]', 'CAST[CAST06]', 'CUPIT', 'AUDIT01[AUDIT01]', 'AUDIT02[AUDIT02]', 'AUDIT38[AUDIT03]', 'AUDIT38[AUDIT04]', 'AUDIT38[AUDIT05]', 'AUDIT38[AUDIT06]', 'AUDIT38[AUDIT07]', 'AUDIT38[AUDIT08]', 'AUDIT910[AUDIT09]', 'AUDIT910[AUDIT10]', 'PSS4[PSS01]', 'PSS4[PSS02]', 'PSS4[PSS03]', 'PSS4[PSS04]', 'ESTRE[ESTRE01]', 'ESTRE[ESTRE02]', 'ESTRE[ESTRE03]', 'ESTRE[ESTRE04]', 'ESTRE[ESTRE05]', 'ESTRE[ESTRE06]', 'ESTRE[ESTRE07]', 'ESTRE[ESTRE08]', 'ESTRE[ESTRE09]', 'ESTRE[ESTRE10]', 'ESTRE[ESTRE11]', 'ESTRE[ESTRE12]', 'ESTRE[ESTRE13]', 'ESTRE[ESTRE14]', 'ESTRE[ESTRE15]', 'ESTRE[ESTRE16]', 'ESTRE[ESTRE17]', 'ESTRE[ESTRE18]', 'ESTRE[ESTRE19]', 'ESTRE[ESTRE20]', 'ESTRE[ESTRE21]', 'ESTRE[ESTRE22]', 'EXIG[1]', 'EXIG[2]', 'EXIG[3]', 'EXIG[4]', 'EXIG[5]', 'EXIG[6]', 'ESTRA[ESTRA01]', 'ESTRA[ESTRA02]', 'ESTRA[ESTRA03]', 'ESTRA[ESTRA04]', 'ESTRA[ESTRA05]', 'ESTRA[ESTRA06]', 'ESTRA[ESTRA07]', 'PROCAS[PROCA]', 'NECTTO', 'ACCTTO', 'LUGTTO', 'TIPTTO', 'BARR[BARR01]', 'BARR[BARR02]', 'BARR[BARR03]', 'BARR[BARR04]', 'BARR[BARR05]', 'BARR[BARR06]', 'BARR[BARR07]', 'BARR[BARR08]', 'BARR[BARR09]', 'APOYO[APOY01]', 'APOYO[APOY02]', 'APOYO[APOY03]', 'APOYO[APOY04]', 'APOYO[APOY05]', 'APOYO[APOY06]', 'FLOW[FLOW01]', 'FLOW[FLOW02]', 'FLOW[FLOW03]', 'FLOW[FLOW04]', 'FLOW[FLOW05]', 'FLOW[FLOW06]', 'FLOW[FLOW07]', 'FLOW[FLOW08]', 'FLOW[FLOW09]', 'FLOW[FLOW10]', 'FLOW[FLOW11]', 'FLOW[FLOW12]', 'APPVI01', 'APPVI02[1]', 'APPVI02[2]', 'APPVI02[3]', 'APPVI03', 'EMB01', 'EMB02', 'EMB03', 'EMB04', 'EMB05', 'EMB06[EMBSM06]', 'EMB07[EMBSM07]', 'EMB08[EMBSM08]', 'EMBSM09', 'EMB10', 'EMB11', 'ATPSIC01', 'ATPSIC2[ATPSIC02]', 'ATPSIC03', 'BIM01', 'BIM02[BIM02]', 'BIM03', 'ACTFIS01[ACTFIS01]', 'ALIMEN[ALIMEN01]', 'ALIMEN[ALIMEN02]', 'ALIMEN[ALIMEN03]', 'ALIMEN[ALIMEN04]', 'INGLIQ01', 'SALFIS01', 'SALFIS02', 'CUIDA01', 'CUIDA02', 'EMPLE01', 'CONDACAD[CON01]', 'CONDACAD[CON02]', 'CONDACAD[CON03]', 'PHQ09[PHQ09F]', 'CSS01', 'CSS02', 'CSS03', 'CSS04', 'CSS05', 'CSS06', 'OPS01', 'OPS02', 'OPS03', 'DESCOM01[1]', 'DESCOM01[2]', 'DESCOM01[3]', 'DESCOM01[4]', 'DESCOM01[5]', 'DESCOM01[6]', 'DESCOM01[7]', 'DESCOM01[8]', 'DESCOM01[9]', 'DESCOM01[10]', 'DESCOM01[11]', 'PRAB01[PRA01]', 'PRAB01[PRA02]', 'PRAB01[PRA03]', 'INFOR[INF01]', 'INFOR[INF02]', 'INFOR[INF03]', 'EMAIL', 'CON02']\n",
      "Estudiantes columnas: ['EMAIL', 'SEDE', 'ESCUELA', 'JORNADA', 'TIPO_ALUMNO', 'RESPONDIO']\n",
      "Gráfico de pastel guardado en: grafico_anillo.png\n",
      "Presentación generada en 'data/resumenes/resumen_presentacion.pptx'\n",
      "Proceso completado.\n"
     ]
    }
   ],
   "source": [
    "from data.data_processing import procesar_encuesta\n",
    "from api.main import get_full_survey\n",
    "from plots.main import generar_presentacion\n",
    "\n",
    "# 1️⃣ Obtener encuesta\n",
    "df_encuesta = get_full_survey()\n",
    "df_encuesta.to_excel(\"data/encuesta_completa.xlsx\", index=False)\n",
    "\n",
    "# 2️⃣ Procesar alumnos\n",
    "resumen_sede, resumen_escuela = procesar_encuesta(\n",
    "    \"data/encuesta_completa.xlsx\",\n",
    "    \"data/universo-radiografia.xlsx\",\n",
    "    \"data/resumenes\"\n",
    ")\n",
    "\n",
    "# 3️⃣ Generar PPT\n",
    "generar_presentacion(\n",
    "    \"templates/radiografia_bienestar_duoc_2025.pptx\",\n",
    "    \"data/resumenes/resumen_presentacion.pptx\",\n",
    "    resumen_sede,\n",
    "    resumen_escuela\n",
    ")\n",
    "print(\"Proceso completado.\")"
   ]
  }
 ],
 "metadata": {
  "kernelspec": {
   "display_name": "Python 3",
   "language": "python",
   "name": "python3"
  },
  "language_info": {
   "codemirror_mode": {
    "name": "ipython",
    "version": 3
   },
   "file_extension": ".py",
   "mimetype": "text/x-python",
   "name": "python",
   "nbconvert_exporter": "python",
   "pygments_lexer": "ipython3",
   "version": "3.8.10"
  }
 },
 "nbformat": 4,
 "nbformat_minor": 5
}
